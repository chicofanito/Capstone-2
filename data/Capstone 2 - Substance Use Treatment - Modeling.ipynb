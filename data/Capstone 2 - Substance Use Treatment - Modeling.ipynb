{
 "cells": [
  {
   "cell_type": "markdown",
   "id": "2674d1ea",
   "metadata": {},
   "source": [
    "# Prediciting Substance use treatment completion - Modeling\n",
    "\n",
    "## Capstone Project One : Springboard Data Science career track\n",
    "\n",
    "### Notebook by Patrico Tyrell\n",
    "\n",
    "\n",
    "#### 1. The Problem\n",
    "This project aims to leverage machine learning techniques to investigate disparities in the completion of substance use disorder (SUD) treatment. The primary objective is to develop predictive models capable of identifying individuals who are likely to successfully complete substance use treatment programs. To achieve this goal, the project will harness data from the Treatment Episode Data Set: Discharge (TEDS-D), sourced from the Substance Abuse and Mental Health Services Administration. The project's investigation is motivated by the disparities in SUD treatment services and outcomes.By identifying key predictors of successful treatment and revealing disparities, this project seeks to illuminate strengths and weaknesses in service delivery. This analysis has the potential to boost treatment success rates, ultimately addressing unmet treatment needs. A pivotal first step involves predicting treatment success for a given individual. The project's significance is underscored by the extensive literature dedicated to identifying patient characteristics that enhance the efficacy of SUD treatment.\n",
    "\n",
    "\n",
    "#### 2. The Data:\n",
    "\n",
    "The project will use data from the Treatment Episode Data Set: Discharge (TEDS-D), sourced from the Substance Abuse and Mental Health Services Administration.\n",
    "\n",
    "TEDS-D serves as a comprehensive national data repository, containing annual discharge records from various substance use treatment facilities. These records encompass a wide array of information on admissions for individuals aged 12 and above. Pertinent details include admission demographics such as age, sex, race/ethnicity, and employment status. Additionally, the dataset provides insights into substance use characteristics, including details about the types of substances used, age at first use, routes of use, frequency of use, and prior admissions."
   ]
  },
  {
   "cell_type": "markdown",
   "id": "45ec0ebd",
   "metadata": {},
   "source": [
    "**Features**\n",
    "\n",
    "- **state**: State of the treatment facility\n",
    "- **total_treatment_facilities**: Total trement facility in the state\n",
    "- **SERVICES_Recoded**:Type of treatment service/setting at admission\n",
    "- **SERVICES_D_Recoded**: Type of treatment service/setting at discharge\n",
    "- **ALCFLG_Recoded**:Alcohol reported at admission\n",
    "- **COKEFLG_Recoded**:Cocaine/crack reported at admission\n",
    "- **MARFLG_Recoded**:Marijuana/hashish reported at admission\n",
    "- **HERFLG_Recoded**:Heroin reported at admission\n",
    "- **METHFLG_Recoded**:Non-rx methadone reported at admission\n",
    "- **OPSYNFLG_Recoded**: Other opiates/synthetics reported at admission  \n",
    "- **PCPFLG_Recoded**:  PCP reported at admission\n",
    "- **HALLFLG_Recoded**: Hallucinogens reported at admission\n",
    "- **MTHAMFLG_Recoded**: Methamphetamine/speed reported at admission\n",
    "- **AMPHFLG_Recoded**: Other amphetamines reported at admission\n",
    "- **STIMFLG_Recoded**: Other stimulants reported at admission\n",
    "- **BENZFLG_Recoded**: Benzodiazepines reported at admission\n",
    "- **TRNQFLG_Recoded**: Other tranquilizers reported at admission\n",
    "- **BARBFLG_Recoded**: Barbiturates reported at admission\n",
    "- **SEDHPFLG_Recoded**: Other sedatives/hypnotics reported at admission\n",
    "- **INHFLG_Recoded**: Inhalants reported at admission\n",
    "- **OTCFLG_Recoded**: Over-the-counter medication reported at admission\n",
    "- **OTHERFLG_Recoded**: Other drug reported at admission\n",
    "- **DIVISION_Recoded**: Census division\n",
    "- **ALCDRUG_Recoded**: Substance use type (alcohol only, other drugs only, alcohol and other drugs, or none)\n",
    "- **Completion_Status**: Treament outcome (complete or incomplete)\n",
    "- **Length_of_Stay**: Length of stay in treatment\n",
    "- **Age_Group**: Age Group\n",
    "- **pop_per_sq_mil**: Population per sqaure mile"
   ]
  },
  {
   "cell_type": "markdown",
   "id": "fd20f7b3",
   "metadata": {},
   "source": [
    "#### 3. Importing Neccessary Packages"
   ]
  },
  {
   "cell_type": "code",
   "execution_count": 17,
   "id": "2b91a363",
   "metadata": {},
   "outputs": [],
   "source": [
    "# Import Required Packages\n",
    "import pandas as pd\n",
    "import numpy as np\n",
    "import matplotlib.pyplot as plt\n",
    "import seaborn as sns\n",
    "from sklearn.preprocessing import StandardScaler\n",
    "from sklearn.preprocessing import LabelEncoder\n",
    "from sklearn.model_selection import train_test_split\n",
    "from sklearn.linear_model import LogisticRegression\n",
    "from sklearn.metrics import accuracy_score, classification_report, confusion_matrix\n",
    "from sklearn.ensemble import RandomForestClassifier\n",
    "from sklearn.svm import SVC\n",
    "from sklearn.neighbors import KNeighborsClassifier\n",
    "from sklearn.naive_bayes import GaussianNB\n",
    "from sklearn.ensemble import GradientBoostingClassifier\n",
    "from sklearn.model_selection import GridSearchCV\n"
   ]
  },
  {
   "cell_type": "markdown",
   "id": "7fd90417",
   "metadata": {},
   "source": [
    "#### 4. Load Training and Testing Datasets"
   ]
  },
  {
   "cell_type": "code",
   "execution_count": 18,
   "id": "fe9c76ce",
   "metadata": {},
   "outputs": [],
   "source": [
    "# Load training data\n",
    "X_train = pd.read_csv('X_train.csv')\n",
    "y_train = pd.read_csv('y_train.csv')\n",
    "\n",
    "# Load testing data\n",
    "X_test = pd.read_csv('X_test.csv')\n",
    "y_test = pd.read_csv('y_test.csv')\n",
    "\n",
    "y_train = y_train.values.ravel()  # Convert to 1-dimensional array\n",
    "y_test = y_test.values.ravel()    # Convert to 1-dimensional array\n"
   ]
  },
  {
   "cell_type": "markdown",
   "id": "47447b80",
   "metadata": {},
   "source": [
    "#### 5. Applying the Machine Learning models"
   ]
  },
  {
   "cell_type": "markdown",
   "id": "188de202",
   "metadata": {},
   "source": [
    "This is a classification problem as we are trying to predict treatment outcome (complete or incomplete). I will explore these conventional machine learning models to build the model and compare performances:\n",
    "\n",
    "**Logistic Regression**:\n",
    "\n",
    "Logistic Regression is a simple yet effective binary classification algorithm.\n",
    "It's a good starting point for classification problems.\n",
    "It models the probability that a given input belongs to a particular class.\n",
    "Random Forest Classifier:\n",
    "\n",
    "**Random Forest**:\n",
    "This is an ensemble learning method that combines multiple decision trees.\n",
    "It's robust, handles non-linear relationships well, and is less prone to overfitting.\n",
    "It can capture complex interactions between features.\n",
    "\n",
    "**K-Nearest Neighbor (KNN)**:This is a simple, intuitive, and versatile supervised learning algorithm used for classification and regression. In classification tasks, KNN works by classifying a data point based on how its neighbors are classified.\n",
    "\n",
    "**Naive Bayes**: Naive Bayes is a probabilistic machine learning algorithm based on Bayes’ Theorem, which is used for classification tasks. It is called \"naive\" because it makes the assumption that the occurrence of a certain feature is independent of the occurrence of other features, even though these features can be dependent on each other in the real world. \n",
    "\n",
    "**Gradient Boosting**:Gradient Boosting builds multiple decision trees sequentially, with each tree correcting the errors made by the previous ones. This iterative correction process enhances the model's performance and accuracy over time. "
   ]
  },
  {
   "cell_type": "code",
   "execution_count": null,
   "id": "84fb246b",
   "metadata": {},
   "outputs": [],
   "source": [
    "#### 5a. Logistic Regression"
   ]
  },
  {
   "cell_type": "code",
   "execution_count": 19,
   "id": "083aa202",
   "metadata": {},
   "outputs": [
    {
     "data": {
      "text/html": [
       "<style>#sk-container-id-2 {color: black;background-color: white;}#sk-container-id-2 pre{padding: 0;}#sk-container-id-2 div.sk-toggleable {background-color: white;}#sk-container-id-2 label.sk-toggleable__label {cursor: pointer;display: block;width: 100%;margin-bottom: 0;padding: 0.3em;box-sizing: border-box;text-align: center;}#sk-container-id-2 label.sk-toggleable__label-arrow:before {content: \"▸\";float: left;margin-right: 0.25em;color: #696969;}#sk-container-id-2 label.sk-toggleable__label-arrow:hover:before {color: black;}#sk-container-id-2 div.sk-estimator:hover label.sk-toggleable__label-arrow:before {color: black;}#sk-container-id-2 div.sk-toggleable__content {max-height: 0;max-width: 0;overflow: hidden;text-align: left;background-color: #f0f8ff;}#sk-container-id-2 div.sk-toggleable__content pre {margin: 0.2em;color: black;border-radius: 0.25em;background-color: #f0f8ff;}#sk-container-id-2 input.sk-toggleable__control:checked~div.sk-toggleable__content {max-height: 200px;max-width: 100%;overflow: auto;}#sk-container-id-2 input.sk-toggleable__control:checked~label.sk-toggleable__label-arrow:before {content: \"▾\";}#sk-container-id-2 div.sk-estimator input.sk-toggleable__control:checked~label.sk-toggleable__label {background-color: #d4ebff;}#sk-container-id-2 div.sk-label input.sk-toggleable__control:checked~label.sk-toggleable__label {background-color: #d4ebff;}#sk-container-id-2 input.sk-hidden--visually {border: 0;clip: rect(1px 1px 1px 1px);clip: rect(1px, 1px, 1px, 1px);height: 1px;margin: -1px;overflow: hidden;padding: 0;position: absolute;width: 1px;}#sk-container-id-2 div.sk-estimator {font-family: monospace;background-color: #f0f8ff;border: 1px dotted black;border-radius: 0.25em;box-sizing: border-box;margin-bottom: 0.5em;}#sk-container-id-2 div.sk-estimator:hover {background-color: #d4ebff;}#sk-container-id-2 div.sk-parallel-item::after {content: \"\";width: 100%;border-bottom: 1px solid gray;flex-grow: 1;}#sk-container-id-2 div.sk-label:hover label.sk-toggleable__label {background-color: #d4ebff;}#sk-container-id-2 div.sk-serial::before {content: \"\";position: absolute;border-left: 1px solid gray;box-sizing: border-box;top: 0;bottom: 0;left: 50%;z-index: 0;}#sk-container-id-2 div.sk-serial {display: flex;flex-direction: column;align-items: center;background-color: white;padding-right: 0.2em;padding-left: 0.2em;position: relative;}#sk-container-id-2 div.sk-item {position: relative;z-index: 1;}#sk-container-id-2 div.sk-parallel {display: flex;align-items: stretch;justify-content: center;background-color: white;position: relative;}#sk-container-id-2 div.sk-item::before, #sk-container-id-2 div.sk-parallel-item::before {content: \"\";position: absolute;border-left: 1px solid gray;box-sizing: border-box;top: 0;bottom: 0;left: 50%;z-index: -1;}#sk-container-id-2 div.sk-parallel-item {display: flex;flex-direction: column;z-index: 1;position: relative;background-color: white;}#sk-container-id-2 div.sk-parallel-item:first-child::after {align-self: flex-end;width: 50%;}#sk-container-id-2 div.sk-parallel-item:last-child::after {align-self: flex-start;width: 50%;}#sk-container-id-2 div.sk-parallel-item:only-child::after {width: 0;}#sk-container-id-2 div.sk-dashed-wrapped {border: 1px dashed gray;margin: 0 0.4em 0.5em 0.4em;box-sizing: border-box;padding-bottom: 0.4em;background-color: white;}#sk-container-id-2 div.sk-label label {font-family: monospace;font-weight: bold;display: inline-block;line-height: 1.2em;}#sk-container-id-2 div.sk-label-container {text-align: center;}#sk-container-id-2 div.sk-container {/* jupyter's `normalize.less` sets `[hidden] { display: none; }` but bootstrap.min.css set `[hidden] { display: none !important; }` so we also need the `!important` here to be able to override the default hidden behavior on the sphinx rendered scikit-learn.org. See: https://github.com/scikit-learn/scikit-learn/issues/21755 */display: inline-block !important;position: relative;}#sk-container-id-2 div.sk-text-repr-fallback {display: none;}</style><div id=\"sk-container-id-2\" class=\"sk-top-container\"><div class=\"sk-text-repr-fallback\"><pre>LogisticRegression(max_iter=1000, random_state=42)</pre><b>In a Jupyter environment, please rerun this cell to show the HTML representation or trust the notebook. <br />On GitHub, the HTML representation is unable to render, please try loading this page with nbviewer.org.</b></div><div class=\"sk-container\" hidden><div class=\"sk-item\"><div class=\"sk-estimator sk-toggleable\"><input class=\"sk-toggleable__control sk-hidden--visually\" id=\"sk-estimator-id-2\" type=\"checkbox\" checked><label for=\"sk-estimator-id-2\" class=\"sk-toggleable__label sk-toggleable__label-arrow\">LogisticRegression</label><div class=\"sk-toggleable__content\"><pre>LogisticRegression(max_iter=1000, random_state=42)</pre></div></div></div></div></div>"
      ],
      "text/plain": [
       "LogisticRegression(max_iter=1000, random_state=42)"
      ]
     },
     "execution_count": 19,
     "metadata": {},
     "output_type": "execute_result"
    }
   ],
   "source": [
    "# Initialize the Logistic Regression model\n",
    "logistic_regression = LogisticRegression(max_iter=1000, random_state=42)\n",
    "\n",
    "# Train the model on the training data\n",
    "logistic_regression.fit(X_train, y_train)\n"
   ]
  },
  {
   "cell_type": "code",
   "execution_count": 21,
   "id": "40993691",
   "metadata": {},
   "outputs": [],
   "source": [
    "# Use the trained model to make predictions on the test data\n",
    "y_pred = logistic_regression.predict(X_test)\n"
   ]
  },
  {
   "cell_type": "markdown",
   "id": "14bdd4a5",
   "metadata": {},
   "source": [
    "##### Logistic Model Evaluation"
   ]
  },
  {
   "cell_type": "code",
   "execution_count": 22,
   "id": "ac95d36a",
   "metadata": {},
   "outputs": [
    {
     "name": "stdout",
     "output_type": "stream",
     "text": [
      "Logistic Regression Accuracy: 0.7768281290373874\n",
      "Logistic Regression Classification Report:\n",
      "              precision    recall  f1-score   support\n",
      "\n",
      "           0       0.78      0.88      0.83     62233\n",
      "           1       0.76      0.60      0.67     38389\n",
      "\n",
      "    accuracy                           0.78    100622\n",
      "   macro avg       0.77      0.74      0.75    100622\n",
      "weighted avg       0.78      0.78      0.77    100622\n",
      "\n",
      "Logistic Regression Confusion Matrix:\n",
      "[[54953  7280]\n",
      " [15176 23213]]\n"
     ]
    }
   ],
   "source": [
    "accuracy = accuracy_score(y_test, y_pred)\n",
    "print(f'Logistic Regression Accuracy: {accuracy}')\n",
    "classification_rep = classification_report(y_test, y_pred)\n",
    "confusion_mat = confusion_matrix(y_test, y_pred)\n",
    "\n",
    "print('Logistic Regression Classification Report:')\n",
    "print(classification_rep)\n",
    "\n",
    "print('Logistic Regression Confusion Matrix:')\n",
    "print(confusion_mat)\n"
   ]
  },
  {
   "cell_type": "markdown",
   "id": "6c239ba9",
   "metadata": {},
   "source": [
    "**Accuracy**: An accuracy score of approximately 0.777 (or 77.7%) suggests that your logistic regression model is performing reasonably well on the test data. This means that the model correctly predicts the completion status of individuals in the test dataset about 77.7% of the time.\n",
    "\n",
    "**Classification Report**:\n",
    "\n",
    "**Precision**: For class 0 (incomplete), the precision is 0.78, indicating that when the model predicts an individual to be incomplete in their treatment, it's correct 78% of the time. For class 1 (complete), the precision is 0.76, meaning that when the model predicts an individual to be complete, it's correct 76% of the time.\n",
    "\n",
    "**Recall**: For class 0, the recall is 0.88, indicating that the model correctly identifies 88% of all incomplete cases. For class 1, the recall is 0.60, which means the model correctly identifies 60% of all complete cases.\n",
    "\n",
    "**F1-score**: The F1-score is a harmonic mean of precision and recall. For class 0, the F1-score is 0.83, and for class 1, it's 0.67. It provides a balance between precision and recall."
   ]
  },
  {
   "cell_type": "markdown",
   "id": "05d43280",
   "metadata": {},
   "source": [
    "#### 5b. Random Forest"
   ]
  },
  {
   "cell_type": "code",
   "execution_count": 23,
   "id": "5daa1ec1",
   "metadata": {},
   "outputs": [],
   "source": [
    "# Initialize the Random Forest classifier\n",
    "rf_classifier = RandomForestClassifier(random_state=42)\n",
    "\n",
    "# Fit the classifier on the training data\n",
    "rf_classifier.fit(X_train, y_train)\n",
    "\n",
    "# Predict on the test data\n",
    "rf_predictions = rf_classifier.predict(X_test)\n",
    "\n",
    "\n"
   ]
  },
  {
   "cell_type": "code",
   "execution_count": 24,
   "id": "98ef3f0e",
   "metadata": {},
   "outputs": [
    {
     "name": "stdout",
     "output_type": "stream",
     "text": [
      "Top 10 Most Important Features:\n",
      "                              Feature  Importance\n",
      "1                      pop_per_sq_mil    0.082780\n",
      "77          DIVISION_Recoded_Mountain    0.082297\n",
      "3                       state_Arizona    0.076317\n",
      "0          total_treatment_facilities    0.068976\n",
      "85               ALCDRUG_Recoded_None    0.032128\n",
      "91          Length_of_Stay_61-90 days    0.029512\n",
      "88        Length_of_Stay_181-365 days    0.027231\n",
      "92         Length_of_Stay_91-120 days    0.026841\n",
      "59  MARFLG_Recoded_Substance reported    0.024379\n",
      "87        Length_of_Stay_121-180 days    0.022806\n"
     ]
    }
   ],
   "source": [
    "# Get feature importances\n",
    "feature_importances = rf_classifier.feature_importances_\n",
    "\n",
    "# Create a DataFrame to display the feature names and their importances\n",
    "importance_df = pd.DataFrame({'Feature': X_train.columns, 'Importance': feature_importances})\n",
    "\n",
    "# Sort the DataFrame by importance in descending order\n",
    "importance_df = importance_df.sort_values(by='Importance', ascending=False)\n",
    "\n",
    "# Print the top N most important features\n",
    "top_n = 10  # Change this to the number of top features you want to display\n",
    "print(\"Top {} Most Important Features:\".format(top_n))\n",
    "print(importance_df.head(top_n))\n"
   ]
  },
  {
   "cell_type": "markdown",
   "id": "e597d5dd",
   "metadata": {},
   "source": [
    "The Random Forest model achieved an accuracy of approximately 0.7941 on the testing dataset. "
   ]
  },
  {
   "cell_type": "markdown",
   "id": "f9360d7f",
   "metadata": {},
   "source": [
    "##### Evaluation of Random Forest"
   ]
  },
  {
   "cell_type": "code",
   "execution_count": 25,
   "id": "6ce1c3ac",
   "metadata": {},
   "outputs": [
    {
     "name": "stdout",
     "output_type": "stream",
     "text": [
      "Random Forest Accuracy: 0.7940808173162927\n",
      "Random Forest Classification Report:\n",
      "               precision    recall  f1-score   support\n",
      "\n",
      "           0       0.82      0.86      0.84     62233\n",
      "           1       0.75      0.69      0.72     38389\n",
      "\n",
      "    accuracy                           0.79    100622\n",
      "   macro avg       0.78      0.77      0.78    100622\n",
      "weighted avg       0.79      0.79      0.79    100622\n",
      "\n",
      "\n",
      "Random Forest Confusion Matrix:\n",
      " [[53586  8647]\n",
      " [12073 26316]]\n"
     ]
    }
   ],
   "source": [
    "# Evaluate the model\n",
    "rf_accuracy = accuracy_score(y_test, rf_predictions)\n",
    "print(\"Random Forest Accuracy:\", rf_accuracy)\n",
    "\n",
    "# Calculate the classification report\n",
    "classification_rep_rf = classification_report(y_test, rf_predictions)\n",
    "\n",
    "# Calculate the confusion matrix\n",
    "confusion_mat_rf = confusion_matrix(y_test, rf_predictions)\n",
    "\n",
    "print(\"Random Forest Classification Report:\\n\", classification_rep_rf)\n",
    "print(\"\\nRandom Forest Confusion Matrix:\\n\", confusion_mat_rf)\n"
   ]
  },
  {
   "cell_type": "markdown",
   "id": "a6d71f6e",
   "metadata": {},
   "source": [
    "The model appears to be classifying class 0 (incomplete) better because of class imbalance. Imbalanced datasets can heavily influence the performance of machine learning models, especially in classification tasks. When one class is significantly more prevalent than the other, the model may tend to predict the majority class more often because it's seen more frequently in the training data.\n",
    "\n",
    "In your case, since there are more instances of class 0 (incomplete), the model might become biased towards predicting it. This can lead to better accuracy, precision, and recall for class 0 while possibly sacrificing performance on class 1 (complete).\n",
    "\n",
    "To address this issue, I will use different evaluation metrics besides accuracy such as F1-score and ROC-AUC that take class imbalance into account."
   ]
  },
  {
   "cell_type": "markdown",
   "id": "1710a733",
   "metadata": {},
   "source": [
    "#### 5c. K-Nearest Neighbor (KNN)"
   ]
  },
  {
   "cell_type": "code",
   "execution_count": 26,
   "id": "48888539",
   "metadata": {},
   "outputs": [
    {
     "name": "stdout",
     "output_type": "stream",
     "text": [
      "KNN Accuracy: 0.7808133410188627\n",
      "KNN Classification Report:\n",
      "               precision    recall  f1-score   support\n",
      "\n",
      "           0       0.80      0.86      0.83     62233\n",
      "           1       0.74      0.66      0.70     38389\n",
      "\n",
      "    accuracy                           0.78    100622\n",
      "   macro avg       0.77      0.76      0.76    100622\n",
      "weighted avg       0.78      0.78      0.78    100622\n",
      "\n",
      "KNN Confusion Matrix:\n",
      " [[53241  8992]\n",
      " [13063 25326]]\n"
     ]
    }
   ],
   "source": [
    "# Instantiate and train KNN\n",
    "knn_model = KNeighborsClassifier(n_neighbors=5)\n",
    "knn_model.fit(X_train, y_train)\n",
    "y_pred_knn = knn_model.predict(X_test)\n",
    "\n",
    "# Evaluate knn model\n",
    "print(\"KNN Accuracy:\", accuracy_score(y_test, y_pred_knn))\n",
    "print(\"KNN Classification Report:\\n\", classification_report(y_test, y_pred_knn))\n",
    "print(\"KNN Confusion Matrix:\\n\", confusion_matrix(y_test, y_pred_knn))"
   ]
  },
  {
   "cell_type": "markdown",
   "id": "bf7ca4ce",
   "metadata": {},
   "source": [
    "#### 5d. Naive Bayes"
   ]
  },
  {
   "cell_type": "code",
   "execution_count": 27,
   "id": "6934e429",
   "metadata": {},
   "outputs": [],
   "source": [
    "# Instantiate and train Naive Bayes\n",
    "nb_model = GaussianNB()\n",
    "nb_model.fit(X_train, y_train)\n",
    "y_pred_nb = nb_model.predict(X_test)\n",
    "\n"
   ]
  },
  {
   "cell_type": "code",
   "execution_count": 28,
   "id": "17739193",
   "metadata": {},
   "outputs": [
    {
     "name": "stdout",
     "output_type": "stream",
     "text": [
      "Naive Bayes Accuracy: 0.7429687344715867\n",
      "Naive Bayes Classification Report:\n",
      "               precision    recall  f1-score   support\n",
      "\n",
      "           0       0.77      0.82      0.80     62233\n",
      "           1       0.68      0.61      0.64     38389\n",
      "\n",
      "    accuracy                           0.74    100622\n",
      "   macro avg       0.73      0.72      0.72    100622\n",
      "weighted avg       0.74      0.74      0.74    100622\n",
      "\n",
      "Naive Bayes Confusion Matrix:\n",
      " [[51301 10932]\n",
      " [14931 23458]]\n"
     ]
    }
   ],
   "source": [
    "# Evaluate nb model\n",
    "print(\"Naive Bayes Accuracy:\", accuracy_score(y_test, y_pred_nb))\n",
    "print(\"Naive Bayes Classification Report:\\n\", classification_report(y_test, y_pred_nb))\n",
    "print(\"Naive Bayes Confusion Matrix:\\n\", confusion_matrix(y_test, y_pred_nb))\n"
   ]
  },
  {
   "cell_type": "markdown",
   "id": "2c7e4f7a",
   "metadata": {},
   "source": [
    "#### 5e. Gradient Boosting"
   ]
  },
  {
   "cell_type": "code",
   "execution_count": 29,
   "id": "1d98ca20",
   "metadata": {},
   "outputs": [],
   "source": [
    "# Instantiate and train Gradient Boosting\n",
    "gb_model = GradientBoostingClassifier(random_state=42)\n",
    "gb_model.fit(X_train, y_train)\n",
    "y_pred_gb = gb_model.predict(X_test)"
   ]
  },
  {
   "cell_type": "code",
   "execution_count": 30,
   "id": "9bb2ea19",
   "metadata": {},
   "outputs": [
    {
     "name": "stdout",
     "output_type": "stream",
     "text": [
      "Gradient Boosting Accuracy: 0.7858520005565384\n",
      "Gradient Boosting Classification Report:\n",
      "               precision    recall  f1-score   support\n",
      "\n",
      "           0       0.78      0.92      0.84     62233\n",
      "           1       0.82      0.57      0.67     38389\n",
      "\n",
      "    accuracy                           0.79    100622\n",
      "   macro avg       0.80      0.74      0.76    100622\n",
      "weighted avg       0.79      0.79      0.78    100622\n",
      "\n",
      "Gradient Boosting Confusion Matrix:\n",
      " [[57288  4945]\n",
      " [16603 21786]]\n"
     ]
    }
   ],
   "source": [
    "# Evaluate GB model\n",
    "print(\"Gradient Boosting Accuracy:\", accuracy_score(y_test, y_pred_gb))\n",
    "print(\"Gradient Boosting Classification Report:\\n\", classification_report(y_test, y_pred_gb))\n",
    "print(\"Gradient Boosting Confusion Matrix:\\n\", confusion_matrix(y_test, y_pred_gb))\n"
   ]
  },
  {
   "cell_type": "code",
   "execution_count": null,
   "id": "d43824fd",
   "metadata": {},
   "outputs": [],
   "source": [
    "#### 6. Model Comparison"
   ]
  },
  {
   "cell_type": "markdown",
   "id": "a337d3a7",
   "metadata": {},
   "source": [
    "The comparison of the four models, namely Logistic Regression, Random Forest, K-Nearest Neighbor (KNN), Naive Bayes, and Gradient Boosting, provides insights into their performance on the given classification problem.\n",
    "\n",
    "1. **Logistic Regression:** The logistic regression model achieved an accuracy of approximately 0.78. It exhibited a balanced precision-recall trade-off, with a higher precision for class 0 (complete) but a better recall for class 1 (incomplete). The model's F1-score for class 0 is notably higher than that for class 1, indicating that it's better at correctly classifying instances as complete. However, it has relatively lower recall for class 1.\n",
    "\n",
    "2. **Random Forest:** The random forest model performed slightly better with an accuracy of about 0.79. It exhibited a better balance between precision and recall for both classes compared to logistic regression. The F1-scores for both classes are competitive, making it a solid choice. The random forest model also had fewer false negatives (class 1) than logistic regression.\n",
    "\n",
    "3. **K-Nearest Neighbor (KNN):** The KNN model achieved an accuracy of around 0.78, similar to logistic regression. It displayed a balanced precision-recall trade-off but slightly lower F1-scores compared to random forest. It is a decent performer, but its recall for class 1 is not as high as random forest.\n",
    "\n",
    "4. **Naive Bayes:** The Naive Bayes model had the lowest accuracy among the four models, around 0.74. It showed the lowest precision for class 1 and relatively lower recall for class 1 as well. While it has a balanced precision-recall trade-off for class 0, it struggles with classifying instances as incomplete (class 1).\n",
    "\n",
    "5. **Gradient Boosting:** The gradient boosting model achieved an accuracy of about 0.79, similar to random forest. It displayed a good balance between precision and recall for both classes and competitive F1-scores. It performed well in correctly classifying both complete and incomplete cases, with a balanced precision-recall trade-off.\n",
    "\n",
    "In summary, the Random Forest and Gradient Boosting models outperformed the others in terms of accuracy and balanced performance for both classes. However, the choice between these two models depends on the specific goals and constraints of the application. If interpretability is important, Logistic Regression might be preferred, but if predictive accuracy is the primary concern, Random Forest or Gradient Boosting would be recommended."
   ]
  },
  {
   "cell_type": "markdown",
   "id": "d26128f6",
   "metadata": {},
   "source": [
    "In addition to accuracy, ROC and AUC provide valuable insights into the model's performance, especially when dealing with imbalanced datasets or when you want to weigh the trade-offs between precision and recall. "
   ]
  },
  {
   "cell_type": "code",
   "execution_count": 31,
   "id": "2faa15a4",
   "metadata": {
    "scrolled": true
   },
   "outputs": [
    {
     "name": "stdout",
     "output_type": "stream",
     "text": [
      "AUC Scores:\n",
      "Logistic Regression: 0.85\n",
      "Random Forest: 0.86\n",
      "K-Nearest Neighbors: 0.84\n",
      "Naive Bayes: 0.79\n",
      "Gradient Boosting: 0.86\n"
     ]
    },
    {
     "data": {
      "image/png": "[encoded data removed]",
      "text/plain": [
       "<Figure size 800x600 with 1 Axes>"
      ]
     },
     "metadata": {},
     "output_type": "display_data"
    }
   ],
   "source": [
    "from sklearn.metrics import roc_curve, roc_auc_score\n",
    "import matplotlib.pyplot as plt\n",
    "\n",
    "# Calculate ROC and AUC for each model\n",
    "models = {\n",
    "    \"Logistic Regression\": logistic_regression,\n",
    "    \"Random Forest\": rf_classifier,\n",
    "    \"K-Nearest Neighbors\": knn_model,\n",
    "    \"Naive Bayes\": nb_model,\n",
    "    \"Gradient Boosting\": gb_model,\n",
    "}\n",
    "\n",
    "auc_scores = {}\n",
    "plt.figure(figsize=(8, 6))\n",
    "\n",
    "for name, model in models.items():\n",
    "    y_pred_prob = model.predict_proba(X_test)[:, 1]\n",
    "    fpr, tpr, _ = roc_curve(y_test, y_pred_prob)\n",
    "    auc = roc_auc_score(y_test, y_pred_prob)\n",
    "    auc_scores[name] = auc\n",
    "    plt.plot(fpr, tpr, label=f\"{name} (AUC = {auc:.2f})\")\n",
    "\n",
    "# Set labels and legend\n",
    "plt.xlabel(\"False Positive Rate (FPR)\")\n",
    "plt.ylabel(\"True Positive Rate (TPR)\")\n",
    "plt.title(\"ROC Curves\")\n",
    "plt.legend()\n",
    "\n",
    "# Compare AUC scores\n",
    "print(\"AUC Scores:\")\n",
    "for name, auc in auc_scores.items():\n",
    "    print(f\"{name}: {auc:.2f}\")\n",
    "\n",
    "plt.show()\n"
   ]
  },
  {
   "cell_type": "markdown",
   "id": "9386c1c9",
   "metadata": {},
   "source": [
    "consistent with previous metrics, In this case, both Random Forest and Gradient Boosting have the highest AUC scores of 0.86, suggesting that they perform similarly well in terms of ROC curve analysis.Since, the metrics suggest Random Forest and Gradient Boosting, let's proceed with hyperparameter tuning. I will focus on Random Forest."
   ]
  },
  {
   "cell_type": "markdown",
   "id": "14d572e1",
   "metadata": {},
   "source": [
    "#### 7. Hyperparameter Tuning Random Forest Model"
   ]
  },
  {
   "cell_type": "markdown",
   "id": "5aa317f1",
   "metadata": {},
   "source": [
    "I will use RandomizedSearchCV to tune the model with a randomized search over hyperparameters. I am using Randomized search is to reduce the computational cost compared to using grid search"
   ]
  },
  {
   "cell_type": "code",
   "execution_count": 39,
   "id": "91da3f62",
   "metadata": {},
   "outputs": [
    {
     "name": "stdout",
     "output_type": "stream",
     "text": [
      "Best Hyperparameters for Random Forest (Randomized Search):\n",
      "{'max_depth': 21, 'min_samples_leaf': 1, 'min_samples_split': 13, 'n_estimators': 413}\n"
     ]
    }
   ],
   "source": [
    "from sklearn.model_selection import RandomizedSearchCV\n",
    "from scipy.stats import randint\n",
    "\n",
    "# Define the hyperparameter grid for Random Forest\n",
    "rf_param_dist = {\n",
    "    'n_estimators': randint(100, 500),          # Random values between 100 and 500\n",
    "    'max_depth': randint(1, 50),               # Random values between 1 and 50\n",
    "    'min_samples_split': randint(2, 20),        # Random values between 2 and 20\n",
    "    'min_samples_leaf': randint(1, 20),         # Random values between 1 and 20\n",
    "}\n",
    "\n",
    "# Initialize RandomizedSearchCV for Random Forest\n",
    "rf_random_search = RandomizedSearchCV(\n",
    "    rf_classifier, param_distributions=rf_param_dist, n_iter=10, cv=5, scoring='roc_auc', n_jobs=-1, random_state=42\n",
    ")\n",
    "\n",
    "# Fit the randomized search to the data\n",
    "rf_random_search.fit(X_train, y_train)\n",
    "\n",
    "# Get the best hyperparameters for Random Forest\n",
    "best_rf_params = rf_random_search.best_params_\n",
    "best_rf_model = rf_random_search.best_estimator_\n",
    "\n",
    "# Print the best hyperparameters\n",
    "print(\"Best Hyperparameters for Random Forest (Randomized Search):\")\n",
    "print(best_rf_params)\n",
    "\n",
    "\n"
   ]
  },
  {
   "cell_type": "code",
   "execution_count": 40,
   "id": "af6cd838",
   "metadata": {},
   "outputs": [
    {
     "name": "stdout",
     "output_type": "stream",
     "text": [
      "Tuned Random Forest Accuracy: 0.8055892349585577\n"
     ]
    }
   ],
   "source": [
    "# Initialize the Random Forest model with the best hyperparameters\n",
    "tuned_rf_classifier = RandomForestClassifier(\n",
    "    n_estimators=413, \n",
    "    max_depth=21, \n",
    "    min_samples_split=13, \n",
    "    min_samples_leaf=1, \n",
    "    random_state=42\n",
    ")\n",
    "\n",
    "# Fit the model to the training data\n",
    "tuned_rf_classifier.fit(X_train, y_train)\n",
    "\n",
    "# Predict on the test set\n",
    "y_pred_tuned_rf = tuned_rf_classifier.predict(X_test)\n",
    "\n",
    "# Evaluate the model\n",
    "tuned_rf_accuracy = accuracy_score(y_test, y_pred_tuned_rf)\n",
    "print(f\"Tuned Random Forest Accuracy: {tuned_rf_accuracy}\")\n"
   ]
  },
  {
   "cell_type": "code",
   "execution_count": 41,
   "id": "d7e0ec41",
   "metadata": {},
   "outputs": [
    {
     "name": "stdout",
     "output_type": "stream",
     "text": [
      "ROC-AUC Score: 0.7732835821834503\n"
     ]
    }
   ],
   "source": [
    "# Calculate ROC-AUC score\n",
    "tuned_roc_auc = roc_auc_score(y_test, y_pred_tuned_rf)\n",
    "print(f\"ROC-AUC Score: {tuned_roc_auc}\")"
   ]
  },
  {
   "cell_type": "markdown",
   "id": "1d98913e",
   "metadata": {},
   "source": [
    "While accuracy increased slightly, ROC-AUC Score decreased after hyper tuning using the random search.The decrease in the ROC-AUC score after hyperparameter tuning using random search could be due to the randomness involved in the search process. Randomized search explores a random subset of the hyperparameter space, and in some cases, it may not find hyperparameters that improve the model's performance on your specific dataset.I will perform cross-validation to get a more stable estimate of the model's performance. This can help ensure that the hyperparameters are chosen based on more robust performance estimates."
   ]
  },
  {
   "cell_type": "code",
   "execution_count": null,
   "id": "9c3da4b0",
   "metadata": {},
   "outputs": [],
   "source": [
    "#### 8. Cross-Validation"
   ]
  },
  {
   "cell_type": "code",
   "execution_count": 42,
   "id": "a8b75d57",
   "metadata": {},
   "outputs": [
    {
     "name": "stdout",
     "output_type": "stream",
     "text": [
      "Cross-Validation ROC-AUC Scores: [0.87920127 0.8781697  0.87955311 0.8774517  0.87899292]\n",
      "Mean ROC-AUC: 0.8786737414964586\n",
      "Standard Deviation: 0.0007616949417755992\n"
     ]
    }
   ],
   "source": [
    "from sklearn.model_selection import cross_val_score\n",
    "from sklearn.ensemble import RandomForestClassifier\n",
    "\n",
    "# Create a Random Forest classifier with the best hyperparameters\n",
    "best_rf_model = RandomForestClassifier(\n",
    "    n_estimators=413, \n",
    "    max_depth=21, \n",
    "    min_samples_split=13, \n",
    "    min_samples_leaf=1, \n",
    "    random_state=42\n",
    ")\n",
    "\n",
    "# Perform 5-fold cross-validation\n",
    "scores = cross_val_score(best_rf_model, X_train, y_train, cv=5, scoring='roc_auc')\n",
    "\n",
    "# Print the cross-validation scores\n",
    "print(\"Cross-Validation ROC-AUC Scores:\", scores)\n",
    "\n",
    "# Calculate and print the mean and standard deviation of the scores\n",
    "print(\"Mean ROC-AUC:\", scores.mean())\n",
    "print(\"Standard Deviation:\", scores.std())\n"
   ]
  },
  {
   "cell_type": "markdown",
   "id": "b06434e0",
   "metadata": {},
   "source": [
    "I performed 5-fold cross-validation on your Random Forest model, and the results indicate that the mean ROC-AUC score of approximately 0.879 suggests that your Random Forest model is performing well on the cross-validated subsets of your training data. The standard deviation is relatively small, indicating that the model's performance is consistent across different folds.\n",
    "This information provide more confidence in the model's predictive ability and its stability when applied to unseen data."
   ]
  },
  {
   "cell_type": "markdown",
   "id": "19c660be",
   "metadata": {},
   "source": [
    "#### 9. Final Predictions"
   ]
  },
  {
   "cell_type": "code",
   "execution_count": 44,
   "id": "ad73c008",
   "metadata": {},
   "outputs": [],
   "source": [
    "# Fit the model to the training data\n",
    "best_rf_model.fit(X_train, y_train)\n",
    "\n",
    "# Make predictions on your dataset\n",
    "final_rf_predictions = best_rf_model.predict(X_test)\n",
    "\n",
    "# Create a DataFrame to store the predictions\n",
    "predictions_df = pd.DataFrame({'Predictions': final_rf_predictions})\n",
    "\n",
    "# Adding X_test index to the predictions DataFrame\n",
    "predictions_df['Index'] = X_test.index\n",
    "\n",
    "# Save the predictions as a CSV file\n",
    "predictions_df.to_csv('final_rf_predictions.csv', index=False)\n",
    "\n"
   ]
  },
  {
   "cell_type": "markdown",
   "id": "07a78997",
   "metadata": {},
   "source": [
    "## Conclusion\n",
    "\n",
    "In my quest to predict treatment completion, I examined various classification models, using 28 distinct features derived from the dataset, either directly or through engineering. The task was to discern which model could best categorize individuals based on their likelihood of completing their treatment. Here are the five classification models I explored:\n",
    "\n",
    "- Logistic Regression\n",
    "- K-Nearest Neighbor (KNN)\n",
    "- Random Forest\n",
    "- Naive Bayes\n",
    "- Gradient Boost\n",
    "\n",
    "In my evaluation, I assessed each model's performance in terms of accuracy scores and ROC-AUC scores on both the training and test datasets. The ROC-AUC score, which quantifies a model's ability to discriminate between classes, served as a critical metric for my evaluation. Among the contenders, two models stood out as the top performers: Random Forest and Gradient Boost, both belonging to the ensemble model category and based on decision trees. Ultimately, my focus narrowed down to Random Forest for further exploration.\n",
    "\n",
    "To maximize the efficiency of hyperparameter tuning for Random Forest and reduce computation time, I employed a random search algorithm. This approach allowed me to find optimized hyperparameters that, when applied to my model, led to an increase in accuracy. However, it's important to note that the ROC-AUC score experienced a slight decrease. This phenomenon highlights the delicate trade-off between precision and recall when making predictions.\n",
    "\n",
    "Taking the analysis a step further, I conducted 5-fold cross-validation on the Random Forest model. The results revealed an encouraging mean ROC-AUC score of approximately 0.879, indicating that my model consistently performs well across different subsets of the training data. The low standard deviation further instills confidence in the model's predictive capability and its stability when faced with new, unseen data.\n",
    "\n",
    "In conclusion, I have successfully developed and fine-tuned a Random Forest model that showcases promising predictive power. It provides a valuable tool for assessing treatment completion likelihood based on a range of influential factors. The culmination of my efforts is a set of final predictions, saved as a CSV file, which can be deployed for real-world applications and decision-making processes.\n",
    "\n"
   ]
  },
  {
   "cell_type": "markdown",
   "id": "48c0c2ce",
   "metadata": {},
   "source": [
    "## Future Directions\n",
    "\n",
    "While my journey through model selection and hyperparameter tuning has yielded encouraging results, there are several avenues for future exploration and improvement:\n",
    "\n",
    "1. **Feature Engineering**: Continue to explore feature engineering techniques to create new variables or transform existing ones, potentially uncovering additional patterns that can enhance predictive performance.\n",
    "\n",
    "2. **Feature Importance**: Dig deeper into the feature importances generated by the Random Forest model. Understanding which features have the most significant impact on predictions can guide targeted interventions or resource allocation.\n",
    "\n",
    "3. **Ensemble Methods**: Experiment with other ensemble methods like XGBoost, LightGBM, or AdaBoost to determine if any of them can surpass the performance of Random Forest.\n",
    "\n",
    "4. **Data Collection**: Consider expanding the dataset with additional relevant features or collecting more recent data. This can lead to improved model generalization.\n",
    "\n",
    "5. **Imbalanced Data Handling**: Since the dataset is highly imbalanced (more incomplete cases than complete cases), I can explore techniques such as oversampling, undersampling, or the use of synthetic data generation methods to mitigate class imbalance.\n",
    "\n",
    "6. **Model Interpretability**: Investigate techniques for improving the interpretability of Random Forest models, as they can sometimes be seen as \"black boxes.\" Techniques like SHAP (SHapley Additive exPlanations) values or partial dependence plots can shed light on model predictions.\n",
    "\n",
    "7. **Deployment**: Since I would like to use the model in practice, I will have to consider the deployment pipeline, model monitoring, and integration with existing systems.\n",
    "\n",
    "8. **Ethical Considerations**: I have to ensure that the model is used in an ethical and responsible manner, avoiding biases and unintended consequences.\n"
   ]
  }
 ],
 "metadata": {
  "kernelspec": {
   "display_name": "Python 3 (ipykernel)",
   "language": "python",
   "name": "python3"
  },
  "language_info": {
   "codemirror_mode": {
    "name": "ipython",
    "version": 3
   },
   "file_extension": ".py",
   "mimetype": "text/x-python",
   "name": "python",
   "nbconvert_exporter": "python",
   "pygments_lexer": "ipython3",
   "version": "3.10.9"
  }
 },
 "nbformat": 4,
 "nbformat_minor": 5
}
